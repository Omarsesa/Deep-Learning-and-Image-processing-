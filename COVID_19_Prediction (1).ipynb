{
 "cells": [
  {
   "cell_type": "markdown",
   "metadata": {
    "id": "fRbHjr7_h15g"
   },
   "source": [
    "# 1) IMPORTING LIBRARIES\n"
   ]
  },
  {
   "cell_type": "code",
   "execution_count": 7,
   "metadata": {
    "id": "rnSEp3G0hDb-"
   },
   "outputs": [
    {
     "name": "stdout",
     "output_type": "stream",
     "text": [
      "WARNING:tensorflow:From C:\\Users\\omars\\anaconda3\\Lib\\site-packages\\keras\\src\\losses.py:2976: The name tf.losses.sparse_softmax_cross_entropy is deprecated. Please use tf.compat.v1.losses.sparse_softmax_cross_entropy instead.\n",
      "\n"
     ]
    }
   ],
   "source": [
    "from tensorflow.keras.models import Sequential\n",
    "from tensorflow.keras.layers import Conv2D, MaxPool2D,Dropout, Flatten, Dense\n",
    "from tensorflow.keras.optimizers import Adam\n",
    "from tensorflow.keras.preprocessing.image import ImageDataGenerator\n",
    "import numpy as np\n",
    "import pandas as pd\n",
    "import matplotlib.pyplot as plt\n"
   ]
  },
  {
   "cell_type": "markdown",
   "metadata": {
    "id": "rW6aaFW2lBJD"
   },
   "source": [
    "# 2) CLONING DATASET"
   ]
  },
  {
   "cell_type": "code",
   "execution_count": 1,
   "metadata": {
    "colab": {
     "base_uri": "https://localhost:8080/"
    },
    "id": "49_yJrcvK4JE",
    "outputId": "150cdd5b-8de5-4386-d70f-ecdbcc5d4a12"
   },
   "outputs": [
    {
     "name": "stderr",
     "output_type": "stream",
     "text": [
      "Cloning into 'Chext-X-ray-Images-Data-Set'...\n",
      "Updating files:   8% (191/2296)\n",
      "Updating files:   9% (207/2296)\n",
      "Updating files:  10% (230/2296)\n",
      "Updating files:  11% (253/2296)\n",
      "Updating files:  12% (276/2296)\n",
      "Updating files:  13% (299/2296)\n",
      "Updating files:  14% (322/2296)\n",
      "Updating files:  15% (345/2296)\n",
      "Updating files:  16% (368/2296)\n",
      "Updating files:  17% (391/2296)\n",
      "Updating files:  18% (414/2296)\n",
      "Updating files:  18% (430/2296)\n",
      "Updating files:  19% (437/2296)\n",
      "Updating files:  20% (460/2296)\n",
      "Updating files:  21% (483/2296)\n",
      "Updating files:  22% (506/2296)\n",
      "Updating files:  23% (529/2296)\n",
      "Updating files:  24% (552/2296)\n",
      "Updating files:  25% (574/2296)\n",
      "Updating files:  26% (597/2296)\n",
      "Updating files:  27% (620/2296)\n",
      "Updating files:  28% (643/2296)\n",
      "Updating files:  29% (666/2296)\n",
      "Updating files:  30% (689/2296)\n",
      "Updating files:  31% (712/2296)\n",
      "Updating files:  32% (735/2296)\n",
      "Updating files:  33% (758/2296)\n",
      "Updating files:  34% (781/2296)\n",
      "Updating files:  34% (785/2296)\n",
      "Updating files:  35% (804/2296)\n",
      "Updating files:  36% (827/2296)\n",
      "Updating files:  37% (850/2296)\n",
      "Updating files:  38% (873/2296)\n",
      "Updating files:  38% (878/2296)\n",
      "Updating files:  39% (896/2296)\n",
      "Updating files:  39% (909/2296)\n",
      "Updating files:  40% (919/2296)\n",
      "Updating files:  41% (942/2296)\n",
      "Updating files:  42% (965/2296)\n",
      "Updating files:  43% (988/2296)\n",
      "Updating files:  44% (1011/2296)\n",
      "Updating files:  45% (1034/2296)\n",
      "Updating files:  46% (1057/2296)\n",
      "Updating files:  47% (1080/2296)\n",
      "Updating files:  47% (1095/2296)\n",
      "Updating files:  48% (1103/2296)\n",
      "Updating files:  49% (1126/2296)\n",
      "Updating files:  50% (1148/2296)\n",
      "Updating files:  51% (1171/2296)\n",
      "Updating files:  52% (1194/2296)\n",
      "Updating files:  53% (1217/2296)\n",
      "Updating files:  54% (1240/2296)\n",
      "Updating files:  55% (1263/2296)\n",
      "Updating files:  56% (1286/2296)\n",
      "Updating files:  56% (1307/2296)\n",
      "Updating files:  57% (1309/2296)\n",
      "Updating files:  58% (1332/2296)\n",
      "Updating files:  59% (1355/2296)\n",
      "Updating files:  60% (1378/2296)\n",
      "Updating files:  61% (1401/2296)\n",
      "Updating files:  62% (1424/2296)\n",
      "Updating files:  63% (1447/2296)\n",
      "Updating files:  64% (1470/2296)\n",
      "Updating files:  65% (1493/2296)\n",
      "Updating files:  65% (1512/2296)\n",
      "Updating files:  66% (1516/2296)\n",
      "Updating files:  67% (1539/2296)\n",
      "Updating files:  68% (1562/2296)\n",
      "Updating files:  69% (1585/2296)\n",
      "Updating files:  70% (1608/2296)\n",
      "Updating files:  71% (1631/2296)\n",
      "Updating files:  72% (1654/2296)\n",
      "Updating files:  73% (1677/2296)\n",
      "Updating files:  74% (1700/2296)\n",
      "Updating files:  75% (1722/2296)\n",
      "Updating files:  76% (1745/2296)\n",
      "Updating files:  76% (1747/2296)\n",
      "Updating files:  77% (1768/2296)\n",
      "Updating files:  78% (1791/2296)\n",
      "Updating files:  79% (1814/2296)\n",
      "Updating files:  80% (1837/2296)\n",
      "Updating files:  81% (1860/2296)\n",
      "Updating files:  82% (1883/2296)\n",
      "Updating files:  83% (1906/2296)\n",
      "Updating files:  84% (1929/2296)\n",
      "Updating files:  85% (1952/2296)\n",
      "Updating files:  85% (1964/2296)\n",
      "Updating files:  86% (1975/2296)\n",
      "Updating files:  87% (1998/2296)\n",
      "Updating files:  88% (2021/2296)\n",
      "Updating files:  89% (2044/2296)\n",
      "Updating files:  90% (2067/2296)\n",
      "Updating files:  91% (2090/2296)\n",
      "Updating files:  92% (2113/2296)\n",
      "Updating files:  93% (2136/2296)\n",
      "Updating files:  94% (2159/2296)\n",
      "Updating files:  95% (2182/2296)\n",
      "Updating files:  96% (2205/2296)\n",
      "Updating files:  97% (2228/2296)\n",
      "Updating files:  98% (2251/2296)\n",
      "Updating files:  98% (2263/2296)\n",
      "Updating files:  99% (2274/2296)\n",
      "Updating files: 100% (2296/2296)\n",
      "Updating files: 100% (2296/2296), done.\n"
     ]
    }
   ],
   "source": [
    "# CLONING THE DATASET FROM THE GITHUB REPOSITORY\n",
    "!git clone https://github.com/RishitToteja/Chext-X-ray-Images-Data-Set.git\n"
   ]
  },
  {
   "cell_type": "code",
   "execution_count": 4,
   "metadata": {
    "id": "coTeQAClsBct"
   },
   "outputs": [],
   "source": [
    "import os\n",
    "\n",
    "main_dir = \"Chext-X-ray-Images-Data-Set/DataSet/Data\"\n",
    "\n",
    "# SETTING TRAIN AND TEST DIRECTORY\n",
    "train_dir = os.path.join(main_dir, \"train\")\n",
    "test_dir = os.path.join(main_dir, \"test\")\n",
    "\n",
    "#SETING DIRECTORY FOR COVID AND NORMAL IMAGES DIRECTORY\n",
    "train_covid_dir = os.path.join(train_dir, \"COVID19\")\n",
    "train_normal_dir = os.path.join(train_dir, \"NORMAL\")\n",
    "\n",
    "test_covid_dir = os.path.join(test_dir, \"COVID19\")\n",
    "test_normal_dir = os.path.join(test_dir, \"NORMAL\")\n"
   ]
  },
  {
   "cell_type": "code",
   "execution_count": 5,
   "metadata": {
    "id": "qrjdlJhEl0JP"
   },
   "outputs": [],
   "source": [
    "# MAKING SEPERATE FILES :\n",
    "train_covid_names = os.listdir(train_covid_dir)\n",
    "train_normal_names = os.listdir(train_normal_dir)\n",
    "\n",
    "test_covid_names = os.listdir(test_covid_dir)\n",
    "test_normal_names = os.listdir(test_normal_dir)"
   ]
  },
  {
   "cell_type": "markdown",
   "metadata": {
    "id": "FoUt5-kL0Vl-"
   },
   "source": [
    "# 3) DATA PREPROCESSING AND AUGMENTATION"
   ]
  },
  {
   "cell_type": "code",
   "execution_count": 9,
   "metadata": {
    "colab": {
     "base_uri": "https://localhost:8080/"
    },
    "id": "zbNjqDKh0oVp",
    "outputId": "8331db7b-29f9-4de6-f715-a8768db1f5a1"
   },
   "outputs": [
    {
     "name": "stdout",
     "output_type": "stream",
     "text": [
      "Found 1449 images belonging to 2 classes.\n",
      "Found 362 images belonging to 2 classes.\n",
      "Found 484 images belonging to 2 classes.\n"
     ]
    }
   ],
   "source": [
    "# CREATING TRAINING, TESTING AND VALIDATION BATCHES\n",
    "\n",
    "dgen_train = ImageDataGenerator(rescale = 1./255,\n",
    "                                validation_split = 0.2,\n",
    "                                zoom_range = 0.2,\n",
    "                                horizontal_flip = True)\n",
    "\n",
    "dgen_validation = ImageDataGenerator(rescale = 1./255,\n",
    "                                     )\n",
    "\n",
    "dgen_test = ImageDataGenerator(rescale = 1./255,\n",
    "                              )\n",
    "\n",
    "train_generator = dgen_train.flow_from_directory(train_dir,\n",
    "                                                 target_size = (150, 150),\n",
    "                                                 subset = 'training',\n",
    "                                                 batch_size = 32,\n",
    "                                                 class_mode = 'binary')\n",
    "validation_generator = dgen_train.flow_from_directory(train_dir,\n",
    "                                                      target_size = (150, 150),\n",
    "                                                      subset = \"validation\",\n",
    "                                                      batch_size = 32,\n",
    "                                                      class_mode = \"binary\")\n",
    "test_generator = dgen_test.flow_from_directory(test_dir,\n",
    "                                               target_size = (150, 150),\n",
    "                                               batch_size = 32,\n",
    "                                               class_mode = \"binary\")\n",
    "\n",
    "\n"
   ]
  },
  {
   "cell_type": "code",
   "execution_count": 10,
   "metadata": {
    "colab": {
     "base_uri": "https://localhost:8080/"
    },
    "id": "zbX345gc7ts_",
    "outputId": "e6708872-4bf6-4f9f-db37-a7cbee3688ad"
   },
   "outputs": [
    {
     "name": "stdout",
     "output_type": "stream",
     "text": [
      "Class Labels are:  {'COVID19': 0, 'NORMAL': 1}\n",
      "Image shape is :  (150, 150, 3)\n"
     ]
    }
   ],
   "source": [
    "print(\"Class Labels are: \", train_generator.class_indices)\n",
    "print(\"Image shape is : \", train_generator.image_shape)"
   ]
  },
  {
   "cell_type": "markdown",
   "metadata": {
    "id": "7VEcgF069qvG"
   },
   "source": [
    "# 4) BUILDING CONVOLUTIONAL NEURAL NETWORK MODEL"
   ]
  },
  {
   "cell_type": "code",
   "execution_count": 11,
   "metadata": {
    "colab": {
     "base_uri": "https://localhost:8080/"
    },
    "id": "lHf8xDcI9ww1",
    "outputId": "aafa2f99-cab1-49f6-c7d1-79484270b446"
   },
   "outputs": [
    {
     "name": "stdout",
     "output_type": "stream",
     "text": [
      "WARNING:tensorflow:From C:\\Users\\omars\\anaconda3\\Lib\\site-packages\\keras\\src\\backend.py:873: The name tf.get_default_graph is deprecated. Please use tf.compat.v1.get_default_graph instead.\n",
      "\n",
      "WARNING:tensorflow:From C:\\Users\\omars\\anaconda3\\Lib\\site-packages\\keras\\src\\layers\\pooling\\max_pooling2d.py:161: The name tf.nn.max_pool is deprecated. Please use tf.nn.max_pool2d instead.\n",
      "\n",
      "Model: \"sequential\"\n",
      "_________________________________________________________________\n",
      " Layer (type)                Output Shape              Param #   \n",
      "=================================================================\n",
      " conv2d (Conv2D)             (None, 150, 150, 32)      2432      \n",
      "                                                                 \n",
      " max_pooling2d (MaxPooling2  (None, 75, 75, 32)        0         \n",
      " D)                                                              \n",
      "                                                                 \n",
      " dropout (Dropout)           (None, 75, 75, 32)        0         \n",
      "                                                                 \n",
      " conv2d_1 (Conv2D)           (None, 75, 75, 64)        51264     \n",
      "                                                                 \n",
      " max_pooling2d_1 (MaxPoolin  (None, 37, 37, 64)        0         \n",
      " g2D)                                                            \n",
      "                                                                 \n",
      " dropout_1 (Dropout)         (None, 37, 37, 64)        0         \n",
      "                                                                 \n",
      " flatten (Flatten)           (None, 87616)             0         \n",
      "                                                                 \n",
      " dense (Dense)               (None, 256)               22429952  \n",
      "                                                                 \n",
      " dropout_2 (Dropout)         (None, 256)               0         \n",
      "                                                                 \n",
      " dense_1 (Dense)             (None, 1)                 257       \n",
      "                                                                 \n",
      "=================================================================\n",
      "Total params: 22483905 (85.77 MB)\n",
      "Trainable params: 22483905 (85.77 MB)\n",
      "Non-trainable params: 0 (0.00 Byte)\n",
      "_________________________________________________________________\n"
     ]
    }
   ],
   "source": [
    "from tensorflow.keras.layers import Conv2D, MaxPooling2D\n",
    "\n",
    "model = Sequential()\n",
    "\n",
    "# 1) CONVOLUTIONAL LAYER - 1\n",
    "model.add(Conv2D(32, (5,5), padding = \"same\", activation = \"relu\", input_shape = train_generator.image_shape))\n",
    "\n",
    "# 2) POOLING LAYER - 1\n",
    "model.add(MaxPooling2D(pool_size=(2,2)))\n",
    "\n",
    "# 3) DROPOUT LAYER -2\n",
    "model.add(Dropout(0.5))\n",
    "\n",
    "# 4) CONVOLUTIONAL LAYER - 2\n",
    "model.add(Conv2D(64, (5,5), padding = \"same\", activation = \"relu\"))\n",
    "\n",
    "# 5) POOLING LAYER - 2\n",
    "model.add(MaxPooling2D(pool_size=(2,2)))\n",
    "\n",
    "# 6) DROPOUT LAYER - 2\n",
    "model.add(Dropout(0.5))\n",
    "\n",
    "# 7) FLATTENING LAYER TO 2D SHAPE\n",
    "model.add(Flatten())\n",
    "\n",
    "# 8) ADDING A DENSE LAYER\n",
    "model.add(Dense(256, activation = 'relu'))\n",
    "\n",
    "# 9 DROPOUT LAYER - 3\n",
    "model.add(Dropout(0.5))\n",
    "\n",
    "# 10) FINAL OUTPUT LAYER\n",
    "model.add(Dense(1, activation = 'sigmoid'))\n",
    "\n",
    "### PRINTING MODEL SUMMARY\n",
    "model.summary()\n",
    "\n"
   ]
  },
  {
   "cell_type": "markdown",
   "metadata": {
    "id": "u-TtLE52DRH1"
   },
   "source": [
    "# 5) COMPILING AND TRAINING THE NEURAL NETWORK MODEL"
   ]
  },
  {
   "cell_type": "code",
   "execution_count": 12,
   "metadata": {
    "id": "lqiio4h4C9g5"
   },
   "outputs": [],
   "source": [
    "# COMPILING THE MODEL\n",
    "\n",
    "model.compile(Adam(learning_rate = 0.001), loss = 'binary_crossentropy', metrics = ['accuracy'])"
   ]
  },
  {
   "cell_type": "code",
   "execution_count": 13,
   "metadata": {
    "colab": {
     "base_uri": "https://localhost:8080/"
    },
    "id": "p0rfWKc0D4xT",
    "outputId": "62021074-d87b-485b-cabc-4647564a87a6"
   },
   "outputs": [
    {
     "name": "stdout",
     "output_type": "stream",
     "text": [
      "Epoch 1/35\n",
      "WARNING:tensorflow:From C:\\Users\\omars\\anaconda3\\Lib\\site-packages\\keras\\src\\utils\\tf_utils.py:492: The name tf.ragged.RaggedTensorValue is deprecated. Please use tf.compat.v1.ragged.RaggedTensorValue instead.\n",
      "\n",
      "WARNING:tensorflow:From C:\\Users\\omars\\anaconda3\\Lib\\site-packages\\keras\\src\\engine\\base_layer_utils.py:384: The name tf.executing_eagerly_outside_functions is deprecated. Please use tf.compat.v1.executing_eagerly_outside_functions instead.\n",
      "\n",
      "46/46 [==============================] - 65s 1s/step - loss: 0.8847 - accuracy: 0.7585 - val_loss: 0.5118 - val_accuracy: 0.7845\n",
      "Epoch 2/35\n",
      "46/46 [==============================] - 53s 1s/step - loss: 0.2599 - accuracy: 0.8951 - val_loss: 0.3719 - val_accuracy: 0.9337\n",
      "Epoch 3/35\n",
      "46/46 [==============================] - 54s 1s/step - loss: 0.1715 - accuracy: 0.9324 - val_loss: 0.2797 - val_accuracy: 0.9199\n",
      "Epoch 4/35\n",
      "46/46 [==============================] - 57s 1s/step - loss: 0.1728 - accuracy: 0.9372 - val_loss: 0.1424 - val_accuracy: 0.9586\n",
      "Epoch 5/35\n",
      "46/46 [==============================] - 53s 1s/step - loss: 0.1318 - accuracy: 0.9565 - val_loss: 0.1420 - val_accuracy: 0.9558\n",
      "Epoch 6/35\n",
      "46/46 [==============================] - 54s 1s/step - loss: 0.1235 - accuracy: 0.9565 - val_loss: 0.1447 - val_accuracy: 0.9448\n",
      "Epoch 7/35\n",
      "46/46 [==============================] - 55s 1s/step - loss: 0.1378 - accuracy: 0.9538 - val_loss: 0.1488 - val_accuracy: 0.9448\n",
      "Epoch 8/35\n",
      "46/46 [==============================] - 54s 1s/step - loss: 0.1375 - accuracy: 0.9565 - val_loss: 0.1260 - val_accuracy: 0.9669\n",
      "Epoch 9/35\n",
      "46/46 [==============================] - 54s 1s/step - loss: 0.1186 - accuracy: 0.9620 - val_loss: 0.1402 - val_accuracy: 0.9558\n",
      "Epoch 10/35\n",
      "46/46 [==============================] - 53s 1s/step - loss: 0.1246 - accuracy: 0.9565 - val_loss: 0.1044 - val_accuracy: 0.9696\n",
      "Epoch 11/35\n",
      "46/46 [==============================] - 54s 1s/step - loss: 0.1186 - accuracy: 0.9634 - val_loss: 0.1778 - val_accuracy: 0.9475\n",
      "Epoch 12/35\n",
      "46/46 [==============================] - 55s 1s/step - loss: 0.0900 - accuracy: 0.9648 - val_loss: 0.1025 - val_accuracy: 0.9696\n",
      "Epoch 13/35\n",
      "46/46 [==============================] - 56s 1s/step - loss: 0.0878 - accuracy: 0.9676 - val_loss: 0.0958 - val_accuracy: 0.9751\n",
      "Epoch 14/35\n",
      "46/46 [==============================] - 55s 1s/step - loss: 0.0914 - accuracy: 0.9758 - val_loss: 0.0902 - val_accuracy: 0.9724\n",
      "Epoch 15/35\n",
      "46/46 [==============================] - 54s 1s/step - loss: 0.0745 - accuracy: 0.9758 - val_loss: 0.0774 - val_accuracy: 0.9751\n",
      "Epoch 16/35\n",
      "46/46 [==============================] - 54s 1s/step - loss: 0.0738 - accuracy: 0.9772 - val_loss: 0.0596 - val_accuracy: 0.9807\n",
      "Epoch 17/35\n",
      "46/46 [==============================] - 57s 1s/step - loss: 0.0865 - accuracy: 0.9696 - val_loss: 0.0732 - val_accuracy: 0.9807\n",
      "Epoch 18/35\n",
      "46/46 [==============================] - 58s 1s/step - loss: 0.0762 - accuracy: 0.9758 - val_loss: 0.1004 - val_accuracy: 0.9503\n",
      "Epoch 19/35\n",
      "46/46 [==============================] - 54s 1s/step - loss: 0.0885 - accuracy: 0.9648 - val_loss: 0.0558 - val_accuracy: 0.9890\n",
      "Epoch 20/35\n",
      "46/46 [==============================] - 66s 1s/step - loss: 0.0833 - accuracy: 0.9731 - val_loss: 0.0711 - val_accuracy: 0.9724\n",
      "Epoch 21/35\n",
      "46/46 [==============================] - 58s 1s/step - loss: 0.0585 - accuracy: 0.9814 - val_loss: 0.2313 - val_accuracy: 0.9227\n",
      "Epoch 22/35\n",
      "46/46 [==============================] - 58s 1s/step - loss: 0.1443 - accuracy: 0.9524 - val_loss: 0.0914 - val_accuracy: 0.9641\n",
      "Epoch 23/35\n",
      "46/46 [==============================] - 56s 1s/step - loss: 0.1002 - accuracy: 0.9669 - val_loss: 0.0948 - val_accuracy: 0.9641\n",
      "Epoch 24/35\n",
      "46/46 [==============================] - 54s 1s/step - loss: 0.0905 - accuracy: 0.9703 - val_loss: 0.1005 - val_accuracy: 0.9558\n",
      "Epoch 25/35\n",
      "46/46 [==============================] - 55s 1s/step - loss: 0.0662 - accuracy: 0.9772 - val_loss: 0.0603 - val_accuracy: 0.9779\n",
      "Epoch 26/35\n",
      "46/46 [==============================] - 57s 1s/step - loss: 0.0651 - accuracy: 0.9800 - val_loss: 0.0509 - val_accuracy: 0.9834\n",
      "Epoch 27/35\n",
      "46/46 [==============================] - 55s 1s/step - loss: 0.0468 - accuracy: 0.9821 - val_loss: 0.0467 - val_accuracy: 0.9834\n",
      "Epoch 28/35\n",
      "46/46 [==============================] - 55s 1s/step - loss: 0.0667 - accuracy: 0.9800 - val_loss: 0.0888 - val_accuracy: 0.9669\n",
      "Epoch 29/35\n",
      "46/46 [==============================] - 54s 1s/step - loss: 0.0683 - accuracy: 0.9745 - val_loss: 0.0582 - val_accuracy: 0.9807\n",
      "Epoch 30/35\n",
      "46/46 [==============================] - 56s 1s/step - loss: 0.0564 - accuracy: 0.9800 - val_loss: 0.0816 - val_accuracy: 0.9696\n",
      "Epoch 31/35\n",
      "46/46 [==============================] - 53s 1s/step - loss: 0.0498 - accuracy: 0.9834 - val_loss: 0.0509 - val_accuracy: 0.9834\n",
      "Epoch 32/35\n",
      "46/46 [==============================] - 53s 1s/step - loss: 0.0415 - accuracy: 0.9827 - val_loss: 0.0605 - val_accuracy: 0.9779\n",
      "Epoch 33/35\n",
      "46/46 [==============================] - 53s 1s/step - loss: 0.0508 - accuracy: 0.9903 - val_loss: 0.0561 - val_accuracy: 0.9862\n",
      "Epoch 34/35\n",
      "46/46 [==============================] - 54s 1s/step - loss: 0.0513 - accuracy: 0.9848 - val_loss: 0.0589 - val_accuracy: 0.9862\n",
      "Epoch 35/35\n",
      "46/46 [==============================] - 55s 1s/step - loss: 0.0668 - accuracy: 0.9821 - val_loss: 0.0693 - val_accuracy: 0.9751\n"
     ]
    }
   ],
   "source": [
    "# TRAINING THE MODEL\n",
    "history = model.fit(train_generator,\n",
    "                    epochs = 35,\n",
    "                    validation_data = validation_generator)"
   ]
  },
  {
   "cell_type": "markdown",
   "metadata": {
    "id": "Kgnh2nt0Fmkn"
   },
   "source": [
    "# 6) PERFORMING EVALUATION\n"
   ]
  },
  {
   "cell_type": "code",
   "execution_count": 14,
   "metadata": {
    "colab": {
     "base_uri": "https://localhost:8080/"
    },
    "id": "hibMkhG6EicR",
    "outputId": "b1f310c3-2a76-4146-dd71-91537c5f307b"
   },
   "outputs": [
    {
     "data": {
      "text/plain": [
       "dict_keys(['loss', 'accuracy', 'val_loss', 'val_accuracy'])"
      ]
     },
     "execution_count": 14,
     "metadata": {},
     "output_type": "execute_result"
    }
   ],
   "source": [
    "# KEYS OF HISTORY OBJECT\n",
    "history.history.keys()"
   ]
  },
  {
   "cell_type": "code",
   "execution_count": 15,
   "metadata": {
    "colab": {
     "base_uri": "https://localhost:8080/",
     "height": 312
    },
    "id": "3O70F1eJNgal",
    "outputId": "4ddee9f1-3d5f-4a52-fd53-078326e6827c"
   },
   "outputs": [
    {
     "data": {
      "text/plain": [
       "Text(0.5, 0, 'epoch')"
      ]
     },
     "execution_count": 15,
     "metadata": {},
     "output_type": "execute_result"
    },
    {
     "data": {
      "image/png": "[encoded data removed]",
      "text/plain": [
       "<Figure size 640x480 with 1 Axes>"
      ]
     },
     "metadata": {},
     "output_type": "display_data"
    }
   ],
   "source": [
    "# PLOT GRAPH BETWEEN TRAINING AND VALIDATION LOSS\n",
    "plt.plot(history.history['loss'])\n",
    "plt.plot(history.history['val_loss'])\n",
    "plt.legend(['Training', 'Validation'])\n",
    "plt.title(\"Training and validation losses\")\n",
    "plt.xlabel('epoch')"
   ]
  },
  {
   "cell_type": "code",
   "execution_count": 16,
   "metadata": {
    "colab": {
     "base_uri": "https://localhost:8080/",
     "height": 312
    },
    "id": "OPhMjhY6OLTD",
    "outputId": "df219c41-ca7d-4fea-b2c1-f61ee22edb89"
   },
   "outputs": [
    {
     "data": {
      "text/plain": [
       "Text(0.5, 0, 'epoch')"
      ]
     },
     "execution_count": 16,
     "metadata": {},
     "output_type": "execute_result"
    },
    {
     "data": {
      "image/png": "[encoded data removed]",
      "text/plain": [
       "<Figure size 640x480 with 1 Axes>"
      ]
     },
     "metadata": {},
     "output_type": "display_data"
    }
   ],
   "source": [
    "# PLOT GRAPH BETWEEN TRAINING AND VALIDATION ACCURACY\n",
    "plt.plot(history.history['accuracy'])\n",
    "plt.plot(history.history['val_accuracy'])\n",
    "plt.legend(['Training', 'Validation'])\n",
    "plt.title(\"Training and validation accuracy\")\n",
    "plt.xlabel('epoch')"
   ]
  },
  {
   "cell_type": "code",
   "execution_count": 17,
   "metadata": {
    "colab": {
     "base_uri": "https://localhost:8080/"
    },
    "id": "DhNrVHcdR5hv",
    "outputId": "4c5be570-d438-440e-a0ad-d0ee0be57cf0"
   },
   "outputs": [
    {
     "name": "stdout",
     "output_type": "stream",
     "text": [
      "16/16 [==============================] - 12s 730ms/step - loss: 0.1040 - accuracy: 0.9566\n",
      "Test Set Loss :  0.10404899716377258\n",
      "Test Set Accuracy :  0.9566115736961365\n"
     ]
    }
   ],
   "source": [
    "# GETTING TEST ACCURACY AND LOSS\n",
    "\n",
    "test_loss, test_acc = model.evaluate(test_generator)\n",
    "print(\"Test Set Loss : \", test_loss)\n",
    "print(\"Test Set Accuracy : \", test_acc)"
   ]
  },
  {
   "cell_type": "code",
   "execution_count": 25,
   "metadata": {
    "id": "ahvYtH4s4r3r"
   },
   "outputs": [
    {
     "name": "stderr",
     "output_type": "stream",
     "text": [
      "C:\\Users\\omars\\anaconda3\\Lib\\site-packages\\keras\\src\\engine\\training.py:3103: UserWarning: You are saving your model as an HDF5 file via `model.save()`. This file format is considered legacy. We recommend using instead the native Keras format, e.g. `model.save('my_model.keras')`.\n",
      "  saving_api.save_model(\n"
     ]
    }
   ],
   "source": [
    "model.save(\"model.h5\")"
   ]
  },
  {
   "cell_type": "code",
   "execution_count": null,
   "metadata": {},
   "outputs": [],
   "source": []
  }
 ],
 "metadata": {
  "accelerator": "GPU",
  "colab": {
   "provenance": []
  },
  "kernelspec": {
   "display_name": "Python 3 (ipykernel)",
   "language": "python",
   "name": "python3"
  },
  "language_info": {
   "codemirror_mode": {
    "name": "ipython",
    "version": 3
   },
   "file_extension": ".py",
   "mimetype": "text/x-python",
   "name": "python",
   "nbconvert_exporter": "python",
   "pygments_lexer": "ipython3",
   "version": "3.11.5"
  }
 },
 "nbformat": 4,
 "nbformat_minor": 1
}
